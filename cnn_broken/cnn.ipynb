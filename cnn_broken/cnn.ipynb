{
 "cells": [
  {
   "cell_type": "code",
   "execution_count": 1,
   "metadata": {},
   "outputs": [],
   "source": [
    "import numpy as np\n",
    "import os\n",
    "import cv2\n",
    "import matplotlib.pyplot as plt\n",
    "import tensorflow as tf"
   ]
  },
  {
   "cell_type": "code",
   "execution_count": 2,
   "metadata": {},
   "outputs": [
    {
     "name": "stdout",
     "output_type": "stream",
     "text": [
      "0/87000\n",
      "1000/87000\n",
      "2000/87000\n",
      "3000/87000\n",
      "4000/87000\n",
      "5000/87000\n",
      "6000/87000\n",
      "7000/87000\n",
      "8000/87000\n",
      "9000/87000\n",
      "10000/87000\n",
      "11000/87000\n",
      "12000/87000\n",
      "13000/87000\n",
      "14000/87000\n",
      "15000/87000\n",
      "16000/87000\n",
      "17000/87000\n",
      "18000/87000\n",
      "19000/87000\n",
      "20000/87000\n",
      "21000/87000\n",
      "22000/87000\n",
      "23000/87000\n",
      "24000/87000\n",
      "25000/87000\n",
      "26000/87000\n",
      "27000/87000\n",
      "28000/87000\n",
      "29000/87000\n",
      "30000/87000\n",
      "31000/87000\n",
      "32000/87000\n",
      "33000/87000\n",
      "34000/87000\n",
      "35000/87000\n",
      "36000/87000\n",
      "37000/87000\n",
      "38000/87000\n",
      "39000/87000\n",
      "40000/87000\n",
      "41000/87000\n",
      "42000/87000\n",
      "43000/87000\n",
      "44000/87000\n",
      "45000/87000\n",
      "46000/87000\n",
      "47000/87000\n",
      "48000/87000\n",
      "49000/87000\n",
      "50000/87000\n",
      "51000/87000\n",
      "52000/87000\n",
      "53000/87000\n",
      "54000/87000\n",
      "55000/87000\n",
      "56000/87000\n",
      "57000/87000\n",
      "58000/87000\n",
      "59000/87000\n",
      "60000/87000\n",
      "61000/87000\n",
      "62000/87000\n",
      "63000/87000\n",
      "64000/87000\n",
      "65000/87000\n",
      "66000/87000\n",
      "67000/87000\n",
      "68000/87000\n",
      "69000/87000\n",
      "70000/87000\n",
      "71000/87000\n",
      "72000/87000\n",
      "73000/87000\n",
      "74000/87000\n",
      "75000/87000\n",
      "76000/87000\n",
      "77000/87000\n",
      "78000/87000\n",
      "79000/87000\n",
      "80000/87000\n",
      "81000/87000\n",
      "82000/87000\n",
      "83000/87000\n",
      "84000/87000\n",
      "85000/87000\n",
      "86000/87000\n"
     ]
    }
   ],
   "source": [
    "image_size = 64\n",
    "\n",
    "train_dir = './asl/asl_alphabet_train/asl_alphabet_train/'\n",
    "\n",
    "def get_data(dir):\n",
    "    X = []\n",
    "    y = []\n",
    "    ctr = 0\n",
    "    for cat in os.listdir(dir):\n",
    "        for img_file in os.listdir(dir + cat + '/'):\n",
    "            label = cat\n",
    "            img = cv2.imread(dir + cat + '/' + img_file)\n",
    "            img = cv2.resize(img, (image_size, image_size))\n",
    "            img_arr = np.asarray(img).reshape((image_size, image_size, 3))\n",
    "\n",
    "            X.append(img_arr)\n",
    "            y.append(label)\n",
    "\n",
    "            if ctr % 1000 == 0:\n",
    "                print(str(ctr)+'/87000')\n",
    "            ctr += 1\n",
    "    \n",
    "    return X,y\n",
    "\n",
    "X_train, y_train = get_data(train_dir)\n"
   ]
  },
  {
   "cell_type": "code",
   "execution_count": 3,
   "metadata": {},
   "outputs": [],
   "source": [
    "# Convert to np array\n",
    "X_train = np.array(X_train, dtype=np.float64)\n",
    "y_train = np.array(y_train)"
   ]
  },
  {
   "cell_type": "code",
   "execution_count": 4,
   "metadata": {},
   "outputs": [],
   "source": [
    "X_data = X_train\n",
    "y_data = y_train\n",
    "\n",
    "from sklearn.model_selection import train_test_split\n",
    "X_train, X_test, y_train, y_test = train_test_split(X_data, y_data, test_size=0.25, random_state=69, stratify=y_data)"
   ]
  },
  {
   "cell_type": "code",
   "execution_count": 5,
   "metadata": {},
   "outputs": [],
   "source": [
    "# Encode labels\n",
    "from sklearn.preprocessing import LabelEncoder\n",
    "le = LabelEncoder()\n",
    "y_train_encoded = le.fit_transform(y_train)\n",
    "y_test_encoded = le.fit_transform(y_test)\n",
    "\n",
    "from tensorflow.keras.utils import to_categorical\n",
    "y_train_onehot = to_categorical(y_train_encoded, num_classes=29)\n",
    "y_test_onehot = to_categorical(y_test_encoded, num_classes=29)\n"
   ]
  },
  {
   "cell_type": "code",
   "execution_count": 6,
   "metadata": {},
   "outputs": [
    {
     "name": "stdout",
     "output_type": "stream",
     "text": [
      "(65250, 64, 64, 3)\n",
      "(65250,)\n",
      "(21750, 64, 64, 3)\n",
      "(21750,)\n",
      "(65250,)\n",
      "(21750,)\n"
     ]
    }
   ],
   "source": [
    "print(X_train.shape)\n",
    "print(y_train.shape)\n",
    "print(X_test.shape)\n",
    "print(y_test.shape)\n",
    "print(y_train_encoded.shape)\n",
    "print(y_test_encoded.shape)"
   ]
  },
  {
   "cell_type": "code",
   "execution_count": 7,
   "metadata": {},
   "outputs": [],
   "source": [
    "from tensorflow.keras.callbacks import EarlyStopping\n",
    "early_stop = EarlyStopping(monitor='val_loss',patience=2)"
   ]
  },
  {
   "cell_type": "code",
   "execution_count": 8,
   "metadata": {},
   "outputs": [
    {
     "name": "stdout",
     "output_type": "stream",
     "text": [
      "Model: \"sequential\"\n",
      "_________________________________________________________________\n",
      " Layer (type)                Output Shape              Param #   \n",
      "=================================================================\n",
      " conv2d (Conv2D)             (None, 60, 60, 32)        2432      \n",
      "                                                                 \n",
      " activation (Activation)     (None, 60, 60, 32)        0         \n",
      "                                                                 \n",
      " max_pooling2d (MaxPooling2D  (None, 30, 30, 32)       0         \n",
      " )                                                               \n",
      "                                                                 \n",
      " conv2d_1 (Conv2D)           (None, 28, 28, 64)        18496     \n",
      "                                                                 \n",
      " activation_1 (Activation)   (None, 28, 28, 64)        0         \n",
      "                                                                 \n",
      " max_pooling2d_1 (MaxPooling  (None, 14, 14, 64)       0         \n",
      " 2D)                                                             \n",
      "                                                                 \n",
      " conv2d_2 (Conv2D)           (None, 12, 12, 64)        36928     \n",
      "                                                                 \n",
      " activation_2 (Activation)   (None, 12, 12, 64)        0         \n",
      "                                                                 \n",
      " max_pooling2d_2 (MaxPooling  (None, 6, 6, 64)         0         \n",
      " 2D)                                                             \n",
      "                                                                 \n",
      " flatten (Flatten)           (None, 2304)              0         \n",
      "                                                                 \n",
      " dense (Dense)               (None, 128)               295040    \n",
      "                                                                 \n",
      " dense_1 (Dense)             (None, 29)                3741      \n",
      "                                                                 \n",
      "=================================================================\n",
      "Total params: 356,637\n",
      "Trainable params: 356,637\n",
      "Non-trainable params: 0\n",
      "_________________________________________________________________\n"
     ]
    }
   ],
   "source": [
    "from keras.models import Sequential\n",
    "from keras.layers import Conv2D, MaxPooling2D, Activation, Dense, Flatten, Dropout\n",
    "\n",
    "model = Sequential()\n",
    "model.add(Conv2D(32, (5,5), input_shape=(64,64,3), data_format='channels_last'))\n",
    "model.add(Activation('relu'))\n",
    "model.add(MaxPooling2D((2,2)))\n",
    "model.add(Conv2D(64, (3,3)))\n",
    "model.add(Activation('relu'))\n",
    "model.add(MaxPooling2D((2,2)))\n",
    "model.add(Conv2D(64, (3,3)))\n",
    "model.add(Activation('relu'))\n",
    "model.add(MaxPooling2D((2,2)))\n",
    "model.add(Flatten())\n",
    "model.add(Dense(128, activation='relu'))\n",
    "model.add(Dense(29, activation='softmax'))\n",
    "\n",
    "model.compile(optimizer='adam',\n",
    "              loss='categorical_crossentropy',\n",
    "              metrics=['accuracy'])\n",
    "\n",
    "model.summary()"
   ]
  },
  {
   "cell_type": "code",
   "execution_count": 9,
   "metadata": {},
   "outputs": [
    {
     "name": "stdout",
     "output_type": "stream",
     "text": [
      "Epoch 1/50\n",
      "1020/1020 [==============================] - 17s 12ms/step - loss: 1.2844 - accuracy: 0.6702 - val_loss: 0.2459 - val_accuracy: 0.9183\n",
      "Epoch 2/50\n",
      "1020/1020 [==============================] - 11s 11ms/step - loss: 0.1720 - accuracy: 0.9442 - val_loss: 0.1787 - val_accuracy: 0.9450\n",
      "Epoch 3/50\n",
      "1020/1020 [==============================] - 12s 11ms/step - loss: 0.1009 - accuracy: 0.9677 - val_loss: 0.0875 - val_accuracy: 0.9736\n",
      "Epoch 4/50\n",
      "1020/1020 [==============================] - 11s 11ms/step - loss: 0.0824 - accuracy: 0.9739 - val_loss: 0.0579 - val_accuracy: 0.9820\n",
      "Epoch 5/50\n",
      "1020/1020 [==============================] - 11s 11ms/step - loss: 0.0891 - accuracy: 0.9744 - val_loss: 0.1351 - val_accuracy: 0.9579\n",
      "Epoch 6/50\n",
      "1020/1020 [==============================] - 10s 9ms/step - loss: 0.0582 - accuracy: 0.9826 - val_loss: 0.0669 - val_accuracy: 0.9796\n"
     ]
    },
    {
     "data": {
      "text/plain": [
       "<keras.callbacks.History at 0x27e09c3eee0>"
      ]
     },
     "execution_count": 9,
     "metadata": {},
     "output_type": "execute_result"
    }
   ],
   "source": [
    "model.fit(X_train, y_train_onehot,\n",
    "          epochs=50,\n",
    "          batch_size=64,\n",
    "          verbose=1,\n",
    "          validation_data=(X_test, y_test_onehot),\n",
    "          callbacks=[early_stop])"
   ]
  },
  {
   "cell_type": "code",
   "execution_count": 10,
   "metadata": {},
   "outputs": [
    {
     "name": "stdout",
     "output_type": "stream",
     "text": [
      "INFO:tensorflow:Assets written to: ./grm\\assets\n"
     ]
    }
   ],
   "source": [
    "# save model\n",
    "model.save('./grm')"
   ]
  }
 ],
 "metadata": {
  "interpreter": {
   "hash": "be71a8716e5d119b4a7896e357aef8353d0845bdfc051e517a642afc761e5e00"
  },
  "kernelspec": {
   "display_name": "Python 3.8.10 64-bit",
   "language": "python",
   "name": "python3"
  },
  "language_info": {
   "codemirror_mode": {
    "name": "ipython",
    "version": 3
   },
   "file_extension": ".py",
   "mimetype": "text/x-python",
   "name": "python",
   "nbconvert_exporter": "python",
   "pygments_lexer": "ipython3",
   "version": "3.8.10"
  },
  "orig_nbformat": 4
 },
 "nbformat": 4,
 "nbformat_minor": 2
}
